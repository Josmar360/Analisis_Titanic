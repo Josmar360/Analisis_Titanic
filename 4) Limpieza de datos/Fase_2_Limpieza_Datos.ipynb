{
 "cells": [
  {
   "cell_type": "markdown",
   "metadata": {},
   "source": [
    "# Importar bibliotecas que se usaran"
   ]
  },
  {
   "cell_type": "code",
   "execution_count": 32,
   "metadata": {},
   "outputs": [],
   "source": [
    "import pandas as pd\n",
    "from sklearn.impute import SimpleImputer"
   ]
  },
  {
   "cell_type": "markdown",
   "metadata": {},
   "source": [
    "# Abrir el archivo CSV"
   ]
  },
  {
   "cell_type": "code",
   "execution_count": 33,
   "metadata": {},
   "outputs": [],
   "source": [
    "# Abrir el archivo CSV\n",
    "data = pd.read_csv(\"Titanic-Dataset.csv\")\n"
   ]
  },
  {
   "cell_type": "markdown",
   "metadata": {},
   "source": [
    "# 1.\tIdentificar y documentar columnas con valores nulos y decidir una estrategia para abordarlas (eliminación, imputación)"
   ]
  },
  {
   "cell_type": "code",
   "execution_count": 34,
   "metadata": {},
   "outputs": [
    {
     "name": "stdout",
     "output_type": "stream",
     "text": [
      "PassengerId      0\n",
      "Survived         0\n",
      "Pclass           0\n",
      "Name             0\n",
      "Sex              0\n",
      "Age            177\n",
      "SibSp            0\n",
      "Parch            0\n",
      "Ticket           0\n",
      "Fare             0\n",
      "Cabin          687\n",
      "Embarked         2\n",
      "dtype: int64\n"
     ]
    }
   ],
   "source": [
    "# Ver valores nulos\n",
    "print(data.isnull().sum())\n",
    "\n",
    "# Eliminar la columna de Cabina\n",
    "data = data.drop('Cabin', axis=1)\n",
    "\n",
    "# Imputar la columna de Edad\n",
    "Imputar = SimpleImputer(strategy='mean')\n",
    "data['Age'] = Imputar.fit_transform(data[['Age']])\n",
    "\n",
    "# Eliminar las dos filas en Embarked\n",
    "data = data.dropna(subset=['Embarked'])\n",
    "\n",
    "# Sobreescribir el archivo CSV\n",
    "data.to_csv(\"Titanic-Dataset.csv\", index=False)"
   ]
  },
  {
   "cell_type": "markdown",
   "metadata": {},
   "source": [
    "2.\tDecida si ciertas columnas pueden ser innecesarias para el análisis y elimínelas"
   ]
  },
  {
   "cell_type": "code",
   "execution_count": 35,
   "metadata": {},
   "outputs": [],
   "source": [
    "data = data.drop('Ticket', axis=1)\n",
    "\n",
    "# Sobreescribir el archivo CSV\n",
    "data.to_csv(\"Titanic-Dataset.csv\", index=False)"
   ]
  },
  {
   "cell_type": "markdown",
   "metadata": {},
   "source": [
    "# 3.\tIdentifique variables categóricas importantes y conviértalas a un formato más manejable (one-hot, asignación de números, etc.)"
   ]
  },
  {
   "cell_type": "code",
   "execution_count": 36,
   "metadata": {},
   "outputs": [],
   "source": [
    "# Aplicar One-Hot a la variable Sex\n",
    "data = pd.get_dummies(data, columns=['Sex'])\n",
    "\n",
    "# Asignación de números a la variable 'Pclass'\n",
    "data['Pclass'] = data['Pclass'].astype('category').cat.codes\n"
   ]
  },
  {
   "cell_type": "markdown",
   "metadata": {},
   "source": []
  }
 ],
 "metadata": {
  "kernelspec": {
   "display_name": "Python 3",
   "language": "python",
   "name": "python3"
  },
  "language_info": {
   "codemirror_mode": {
    "name": "ipython",
    "version": 3
   },
   "file_extension": ".py",
   "mimetype": "text/x-python",
   "name": "python",
   "nbconvert_exporter": "python",
   "pygments_lexer": "ipython3",
   "version": "3.12.0"
  }
 },
 "nbformat": 4,
 "nbformat_minor": 2
}
