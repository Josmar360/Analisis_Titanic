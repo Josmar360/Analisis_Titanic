{
 "cells": [
  {
   "cell_type": "markdown",
   "metadata": {},
   "source": [
    "Importacion de bibliotecas para visualizar los datos"
   ]
  },
  {
   "cell_type": "markdown",
   "metadata": {},
   "source": [
    "Importacion de librerias que se usaran en los ejercicios"
   ]
  },
  {
   "cell_type": "code",
   "execution_count": 2,
   "metadata": {},
   "outputs": [],
   "source": [
    "import pandas as pd\n",
    "import matplotlib.pyplot as plt\n",
    "import seaborn as sns"
   ]
  },
  {
   "cell_type": "markdown",
   "metadata": {},
   "source": [
    "Abrir el documentos CVS para obtener los datos"
   ]
  },
  {
   "cell_type": "code",
   "execution_count": 14,
   "metadata": {},
   "outputs": [],
   "source": [
    "data = pd.read_csv(\"Titanic-Dataset.csv\", index_col='PassengerId')"
   ]
  },
  {
   "cell_type": "markdown",
   "metadata": {},
   "source": [
    "================ PREGUNTAS REALIZADAS DURANTE EL EJERCICIO ================"
   ]
  },
  {
   "cell_type": "markdown",
   "metadata": {},
   "source": [
    "1.\t¿Cuál es la edad promedio de los pasajeros? ¿Existe alguna relación entre la edad y la clase de boleto?"
   ]
  },
  {
   "cell_type": "code",
   "execution_count": 17,
   "metadata": {},
   "outputs": [
    {
     "name": "stdout",
     "output_type": "stream",
     "text": [
      "\n",
      "========== Obtener el promedio de la edad ==========\n",
      "El promedio de edad es:  29.69911764705882\n"
     ]
    }
   ],
   "source": [
    "# Calcular el promedio de la edad\n",
    "print(\"\\n========== Obtener el promedio de la edad ==========\")\n",
    "print(\"El promedio de edad es: \", data['Age'].mean())"
   ]
  },
  {
   "cell_type": "code",
   "execution_count": 18,
   "metadata": {},
   "outputs": [
    {
     "name": "stdout",
     "output_type": "stream",
     "text": [
      "\n",
      "========== Obtener información de edad y ticket ==========\n",
      "             count       mean        std   min    25%   50%    75%   max\n",
      "Ticket                                                                  \n",
      "110152         3.0  26.333333   9.073772  16.0  23.00  30.0  31.50  33.0\n",
      "110413         3.0  36.333333  17.156146  18.0  28.50  39.0  45.50  52.0\n",
      "110465         1.0  47.000000        NaN  47.0  47.00  47.0  47.00  47.0\n",
      "110564         1.0  28.000000        NaN  28.0  28.00  28.0  28.00  28.0\n",
      "110813         1.0  60.000000        NaN  60.0  60.00  60.0  60.00  60.0\n",
      "...            ...        ...        ...   ...    ...   ...    ...   ...\n",
      "W./C. 6608     4.0  23.500000  17.058722   9.0  14.25  18.5  27.75  48.0\n",
      "W./C. 6609     0.0        NaN        NaN   NaN    NaN   NaN    NaN   NaN\n",
      "W.E.P. 5734    1.0  46.000000        NaN  46.0  46.00  46.0  46.00  46.0\n",
      "W/C 14208      1.0  30.000000        NaN  30.0  30.00  30.0  30.00  30.0\n",
      "WE/P 5735      2.0  53.000000  24.041631  36.0  44.50  53.0  61.50  70.0\n",
      "\n",
      "[681 rows x 8 columns]\n"
     ]
    }
   ],
   "source": [
    "# Obtener informacion sobre edad y ticket\n",
    "print(\"\\n========== Obtener información de edad y ticket ==========\")\n",
    "Estadisticas = data.groupby('Ticket')['Age'].describe()\n",
    "print(Estadisticas)"
   ]
  },
  {
   "cell_type": "markdown",
   "metadata": {},
   "source": [
    "2.\tExamina si existe alguna relación aparente entre las tarifas pagadas y la supervivencia de los pasajeros"
   ]
  },
  {
   "cell_type": "code",
   "execution_count": 12,
   "metadata": {},
   "outputs": [
    {
     "data": {
      "image/png": "[encoded data removed]",
      "text/plain": [
       "<Figure size 640x480 with 1 Axes>"
      ]
     },
     "metadata": {},
     "output_type": "display_data"
    }
   ],
   "source": [
    "survival_by_gender = data.groupby(['Sex', 'Survived']).size().unstack()\n",
    "\n",
    "survival_by_gender.plot(kind='bar', stacked=False)\n",
    "plt.xlabel('Genero')\n",
    "plt.ylabel('Conteo')\n",
    "plt.title('Conteo de supervivientes por sexo')\n",
    "plt.xticks(rotation=0)\n",
    "plt.legend(['No sobrevivio', 'Sobrevivio'], loc='upper left')\n",
    "plt.show()"
   ]
  }
 ],
 "metadata": {
  "kernelspec": {
   "display_name": "Python 3",
   "language": "python",
   "name": "python3"
  },
  "language_info": {
   "codemirror_mode": {
    "name": "ipython",
    "version": 3
   },
   "file_extension": ".py",
   "mimetype": "text/x-python",
   "name": "python",
   "nbconvert_exporter": "python",
   "pygments_lexer": "ipython3",
   "version": "3.12.0"
  }
 },
 "nbformat": 4,
 "nbformat_minor": 2
}
